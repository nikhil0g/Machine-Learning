{
 "cells": [
  {
   "cell_type": "code",
   "execution_count": 1,
   "id": "59f104d3",
   "metadata": {},
   "outputs": [],
   "source": [
    "import numpy as np\n",
    "import pandas as pd \n",
    "import matplotlib.pyplot as plt\n",
    "import seaborn as sns\n",
    "import statsmodels.api as sm\n",
    "sns.set_style('whitegrid')"
   ]
  },
  {
   "cell_type": "code",
   "execution_count": 2,
   "id": "30498e37",
   "metadata": {},
   "outputs": [],
   "source": [
    "raw_data = pd.read_csv('admitance.csv')"
   ]
  },
  {
   "cell_type": "code",
   "execution_count": 3,
   "id": "ad7c6688",
   "metadata": {},
   "outputs": [
    {
     "data": {
      "text/html": [
       "<div>\n",
       "<style scoped>\n",
       "    .dataframe tbody tr th:only-of-type {\n",
       "        vertical-align: middle;\n",
       "    }\n",
       "\n",
       "    .dataframe tbody tr th {\n",
       "        vertical-align: top;\n",
       "    }\n",
       "\n",
       "    .dataframe thead th {\n",
       "        text-align: right;\n",
       "    }\n",
       "</style>\n",
       "<table border=\"1\" class=\"dataframe\">\n",
       "  <thead>\n",
       "    <tr style=\"text-align: right;\">\n",
       "      <th></th>\n",
       "      <th>SAT</th>\n",
       "      <th>Admitted</th>\n",
       "    </tr>\n",
       "  </thead>\n",
       "  <tbody>\n",
       "    <tr>\n",
       "      <th>0</th>\n",
       "      <td>1363</td>\n",
       "      <td>No</td>\n",
       "    </tr>\n",
       "    <tr>\n",
       "      <th>1</th>\n",
       "      <td>1792</td>\n",
       "      <td>Yes</td>\n",
       "    </tr>\n",
       "    <tr>\n",
       "      <th>2</th>\n",
       "      <td>1954</td>\n",
       "      <td>Yes</td>\n",
       "    </tr>\n",
       "    <tr>\n",
       "      <th>3</th>\n",
       "      <td>1653</td>\n",
       "      <td>No</td>\n",
       "    </tr>\n",
       "    <tr>\n",
       "      <th>4</th>\n",
       "      <td>1593</td>\n",
       "      <td>No</td>\n",
       "    </tr>\n",
       "    <tr>\n",
       "      <th>...</th>\n",
       "      <td>...</td>\n",
       "      <td>...</td>\n",
       "    </tr>\n",
       "    <tr>\n",
       "      <th>163</th>\n",
       "      <td>1722</td>\n",
       "      <td>Yes</td>\n",
       "    </tr>\n",
       "    <tr>\n",
       "      <th>164</th>\n",
       "      <td>1750</td>\n",
       "      <td>Yes</td>\n",
       "    </tr>\n",
       "    <tr>\n",
       "      <th>165</th>\n",
       "      <td>1555</td>\n",
       "      <td>No</td>\n",
       "    </tr>\n",
       "    <tr>\n",
       "      <th>166</th>\n",
       "      <td>1524</td>\n",
       "      <td>No</td>\n",
       "    </tr>\n",
       "    <tr>\n",
       "      <th>167</th>\n",
       "      <td>1461</td>\n",
       "      <td>No</td>\n",
       "    </tr>\n",
       "  </tbody>\n",
       "</table>\n",
       "<p>168 rows × 2 columns</p>\n",
       "</div>"
      ],
      "text/plain": [
       "      SAT Admitted\n",
       "0    1363       No\n",
       "1    1792      Yes\n",
       "2    1954      Yes\n",
       "3    1653       No\n",
       "4    1593       No\n",
       "..    ...      ...\n",
       "163  1722      Yes\n",
       "164  1750      Yes\n",
       "165  1555       No\n",
       "166  1524       No\n",
       "167  1461       No\n",
       "\n",
       "[168 rows x 2 columns]"
      ]
     },
     "execution_count": 3,
     "metadata": {},
     "output_type": "execute_result"
    }
   ],
   "source": [
    "raw_data"
   ]
  },
  {
   "cell_type": "code",
   "execution_count": 4,
   "id": "95736d2e",
   "metadata": {},
   "outputs": [],
   "source": [
    "data = raw_data.copy()"
   ]
  },
  {
   "cell_type": "code",
   "execution_count": 5,
   "id": "47e45da1",
   "metadata": {},
   "outputs": [
    {
     "data": {
      "text/html": [
       "<div>\n",
       "<style scoped>\n",
       "    .dataframe tbody tr th:only-of-type {\n",
       "        vertical-align: middle;\n",
       "    }\n",
       "\n",
       "    .dataframe tbody tr th {\n",
       "        vertical-align: top;\n",
       "    }\n",
       "\n",
       "    .dataframe thead th {\n",
       "        text-align: right;\n",
       "    }\n",
       "</style>\n",
       "<table border=\"1\" class=\"dataframe\">\n",
       "  <thead>\n",
       "    <tr style=\"text-align: right;\">\n",
       "      <th></th>\n",
       "      <th>SAT</th>\n",
       "      <th>Admitted</th>\n",
       "    </tr>\n",
       "  </thead>\n",
       "  <tbody>\n",
       "    <tr>\n",
       "      <th>0</th>\n",
       "      <td>1363</td>\n",
       "      <td>No</td>\n",
       "    </tr>\n",
       "    <tr>\n",
       "      <th>1</th>\n",
       "      <td>1792</td>\n",
       "      <td>Yes</td>\n",
       "    </tr>\n",
       "    <tr>\n",
       "      <th>2</th>\n",
       "      <td>1954</td>\n",
       "      <td>Yes</td>\n",
       "    </tr>\n",
       "    <tr>\n",
       "      <th>3</th>\n",
       "      <td>1653</td>\n",
       "      <td>No</td>\n",
       "    </tr>\n",
       "    <tr>\n",
       "      <th>4</th>\n",
       "      <td>1593</td>\n",
       "      <td>No</td>\n",
       "    </tr>\n",
       "    <tr>\n",
       "      <th>...</th>\n",
       "      <td>...</td>\n",
       "      <td>...</td>\n",
       "    </tr>\n",
       "    <tr>\n",
       "      <th>163</th>\n",
       "      <td>1722</td>\n",
       "      <td>Yes</td>\n",
       "    </tr>\n",
       "    <tr>\n",
       "      <th>164</th>\n",
       "      <td>1750</td>\n",
       "      <td>Yes</td>\n",
       "    </tr>\n",
       "    <tr>\n",
       "      <th>165</th>\n",
       "      <td>1555</td>\n",
       "      <td>No</td>\n",
       "    </tr>\n",
       "    <tr>\n",
       "      <th>166</th>\n",
       "      <td>1524</td>\n",
       "      <td>No</td>\n",
       "    </tr>\n",
       "    <tr>\n",
       "      <th>167</th>\n",
       "      <td>1461</td>\n",
       "      <td>No</td>\n",
       "    </tr>\n",
       "  </tbody>\n",
       "</table>\n",
       "<p>168 rows × 2 columns</p>\n",
       "</div>"
      ],
      "text/plain": [
       "      SAT Admitted\n",
       "0    1363       No\n",
       "1    1792      Yes\n",
       "2    1954      Yes\n",
       "3    1653       No\n",
       "4    1593       No\n",
       "..    ...      ...\n",
       "163  1722      Yes\n",
       "164  1750      Yes\n",
       "165  1555       No\n",
       "166  1524       No\n",
       "167  1461       No\n",
       "\n",
       "[168 rows x 2 columns]"
      ]
     },
     "execution_count": 5,
     "metadata": {},
     "output_type": "execute_result"
    }
   ],
   "source": [
    "data"
   ]
  },
  {
   "cell_type": "code",
   "execution_count": 6,
   "id": "fc6d0b27",
   "metadata": {},
   "outputs": [],
   "source": [
    "data['Admitted'] = data['Admitted'].map({'Yes':1,'No':0})"
   ]
  },
  {
   "cell_type": "code",
   "execution_count": 7,
   "id": "9d967772",
   "metadata": {},
   "outputs": [
    {
     "data": {
      "text/html": [
       "<div>\n",
       "<style scoped>\n",
       "    .dataframe tbody tr th:only-of-type {\n",
       "        vertical-align: middle;\n",
       "    }\n",
       "\n",
       "    .dataframe tbody tr th {\n",
       "        vertical-align: top;\n",
       "    }\n",
       "\n",
       "    .dataframe thead th {\n",
       "        text-align: right;\n",
       "    }\n",
       "</style>\n",
       "<table border=\"1\" class=\"dataframe\">\n",
       "  <thead>\n",
       "    <tr style=\"text-align: right;\">\n",
       "      <th></th>\n",
       "      <th>SAT</th>\n",
       "      <th>Admitted</th>\n",
       "    </tr>\n",
       "  </thead>\n",
       "  <tbody>\n",
       "    <tr>\n",
       "      <th>0</th>\n",
       "      <td>1363</td>\n",
       "      <td>0</td>\n",
       "    </tr>\n",
       "    <tr>\n",
       "      <th>1</th>\n",
       "      <td>1792</td>\n",
       "      <td>1</td>\n",
       "    </tr>\n",
       "    <tr>\n",
       "      <th>2</th>\n",
       "      <td>1954</td>\n",
       "      <td>1</td>\n",
       "    </tr>\n",
       "    <tr>\n",
       "      <th>3</th>\n",
       "      <td>1653</td>\n",
       "      <td>0</td>\n",
       "    </tr>\n",
       "    <tr>\n",
       "      <th>4</th>\n",
       "      <td>1593</td>\n",
       "      <td>0</td>\n",
       "    </tr>\n",
       "    <tr>\n",
       "      <th>...</th>\n",
       "      <td>...</td>\n",
       "      <td>...</td>\n",
       "    </tr>\n",
       "    <tr>\n",
       "      <th>163</th>\n",
       "      <td>1722</td>\n",
       "      <td>1</td>\n",
       "    </tr>\n",
       "    <tr>\n",
       "      <th>164</th>\n",
       "      <td>1750</td>\n",
       "      <td>1</td>\n",
       "    </tr>\n",
       "    <tr>\n",
       "      <th>165</th>\n",
       "      <td>1555</td>\n",
       "      <td>0</td>\n",
       "    </tr>\n",
       "    <tr>\n",
       "      <th>166</th>\n",
       "      <td>1524</td>\n",
       "      <td>0</td>\n",
       "    </tr>\n",
       "    <tr>\n",
       "      <th>167</th>\n",
       "      <td>1461</td>\n",
       "      <td>0</td>\n",
       "    </tr>\n",
       "  </tbody>\n",
       "</table>\n",
       "<p>168 rows × 2 columns</p>\n",
       "</div>"
      ],
      "text/plain": [
       "      SAT  Admitted\n",
       "0    1363         0\n",
       "1    1792         1\n",
       "2    1954         1\n",
       "3    1653         0\n",
       "4    1593         0\n",
       "..    ...       ...\n",
       "163  1722         1\n",
       "164  1750         1\n",
       "165  1555         0\n",
       "166  1524         0\n",
       "167  1461         0\n",
       "\n",
       "[168 rows x 2 columns]"
      ]
     },
     "execution_count": 7,
     "metadata": {},
     "output_type": "execute_result"
    }
   ],
   "source": [
    "data"
   ]
  },
  {
   "cell_type": "code",
   "execution_count": 8,
   "id": "04731954",
   "metadata": {},
   "outputs": [],
   "source": [
    "y = data['Admitted']"
   ]
  },
  {
   "cell_type": "code",
   "execution_count": 9,
   "id": "dc36c62f",
   "metadata": {},
   "outputs": [
    {
     "data": {
      "text/plain": [
       "0      0\n",
       "1      1\n",
       "2      1\n",
       "3      0\n",
       "4      0\n",
       "      ..\n",
       "163    1\n",
       "164    1\n",
       "165    0\n",
       "166    0\n",
       "167    0\n",
       "Name: Admitted, Length: 168, dtype: int64"
      ]
     },
     "execution_count": 9,
     "metadata": {},
     "output_type": "execute_result"
    }
   ],
   "source": [
    "y"
   ]
  },
  {
   "cell_type": "code",
   "execution_count": 10,
   "id": "70743626",
   "metadata": {},
   "outputs": [],
   "source": [
    "x1 = data['SAT']"
   ]
  },
  {
   "cell_type": "code",
   "execution_count": 11,
   "id": "47b63ffc",
   "metadata": {},
   "outputs": [
    {
     "data": {
      "text/plain": [
       "0      1363\n",
       "1      1792\n",
       "2      1954\n",
       "3      1653\n",
       "4      1593\n",
       "       ... \n",
       "163    1722\n",
       "164    1750\n",
       "165    1555\n",
       "166    1524\n",
       "167    1461\n",
       "Name: SAT, Length: 168, dtype: int64"
      ]
     },
     "execution_count": 11,
     "metadata": {},
     "output_type": "execute_result"
    }
   ],
   "source": [
    "x1"
   ]
  },
  {
   "cell_type": "code",
   "execution_count": 12,
   "id": "0b9cd92f",
   "metadata": {},
   "outputs": [
    {
     "data": {
      "image/png": "[encoded data removed]",
      "text/plain": [
       "<Figure size 432x288 with 1 Axes>"
      ]
     },
     "metadata": {},
     "output_type": "display_data"
    }
   ],
   "source": [
    "plt.scatter(x1,y,color='red')\n",
    "plt.xlabel('SAT')\n",
    "plt.ylabel('Admitted')\n",
    "plt.show()"
   ]
  },
  {
   "cell_type": "code",
   "execution_count": 13,
   "id": "f313c906",
   "metadata": {},
   "outputs": [],
   "source": [
    "x = sm.add_constant(x1)"
   ]
  },
  {
   "cell_type": "code",
   "execution_count": 14,
   "id": "2952b9e2",
   "metadata": {},
   "outputs": [
    {
     "data": {
      "text/html": [
       "<div>\n",
       "<style scoped>\n",
       "    .dataframe tbody tr th:only-of-type {\n",
       "        vertical-align: middle;\n",
       "    }\n",
       "\n",
       "    .dataframe tbody tr th {\n",
       "        vertical-align: top;\n",
       "    }\n",
       "\n",
       "    .dataframe thead th {\n",
       "        text-align: right;\n",
       "    }\n",
       "</style>\n",
       "<table border=\"1\" class=\"dataframe\">\n",
       "  <thead>\n",
       "    <tr style=\"text-align: right;\">\n",
       "      <th></th>\n",
       "      <th>const</th>\n",
       "      <th>SAT</th>\n",
       "    </tr>\n",
       "  </thead>\n",
       "  <tbody>\n",
       "    <tr>\n",
       "      <th>0</th>\n",
       "      <td>1.0</td>\n",
       "      <td>1363</td>\n",
       "    </tr>\n",
       "    <tr>\n",
       "      <th>1</th>\n",
       "      <td>1.0</td>\n",
       "      <td>1792</td>\n",
       "    </tr>\n",
       "    <tr>\n",
       "      <th>2</th>\n",
       "      <td>1.0</td>\n",
       "      <td>1954</td>\n",
       "    </tr>\n",
       "    <tr>\n",
       "      <th>3</th>\n",
       "      <td>1.0</td>\n",
       "      <td>1653</td>\n",
       "    </tr>\n",
       "    <tr>\n",
       "      <th>4</th>\n",
       "      <td>1.0</td>\n",
       "      <td>1593</td>\n",
       "    </tr>\n",
       "    <tr>\n",
       "      <th>...</th>\n",
       "      <td>...</td>\n",
       "      <td>...</td>\n",
       "    </tr>\n",
       "    <tr>\n",
       "      <th>163</th>\n",
       "      <td>1.0</td>\n",
       "      <td>1722</td>\n",
       "    </tr>\n",
       "    <tr>\n",
       "      <th>164</th>\n",
       "      <td>1.0</td>\n",
       "      <td>1750</td>\n",
       "    </tr>\n",
       "    <tr>\n",
       "      <th>165</th>\n",
       "      <td>1.0</td>\n",
       "      <td>1555</td>\n",
       "    </tr>\n",
       "    <tr>\n",
       "      <th>166</th>\n",
       "      <td>1.0</td>\n",
       "      <td>1524</td>\n",
       "    </tr>\n",
       "    <tr>\n",
       "      <th>167</th>\n",
       "      <td>1.0</td>\n",
       "      <td>1461</td>\n",
       "    </tr>\n",
       "  </tbody>\n",
       "</table>\n",
       "<p>168 rows × 2 columns</p>\n",
       "</div>"
      ],
      "text/plain": [
       "     const   SAT\n",
       "0      1.0  1363\n",
       "1      1.0  1792\n",
       "2      1.0  1954\n",
       "3      1.0  1653\n",
       "4      1.0  1593\n",
       "..     ...   ...\n",
       "163    1.0  1722\n",
       "164    1.0  1750\n",
       "165    1.0  1555\n",
       "166    1.0  1524\n",
       "167    1.0  1461\n",
       "\n",
       "[168 rows x 2 columns]"
      ]
     },
     "execution_count": 14,
     "metadata": {},
     "output_type": "execute_result"
    }
   ],
   "source": [
    "x"
   ]
  },
  {
   "cell_type": "code",
   "execution_count": 15,
   "id": "94ff44c9",
   "metadata": {},
   "outputs": [],
   "source": [
    "reg_lin = sm.OLS(y,x)"
   ]
  },
  {
   "cell_type": "code",
   "execution_count": 16,
   "id": "0b6c112a",
   "metadata": {},
   "outputs": [],
   "source": [
    "result_lin = reg_lin.fit()"
   ]
  },
  {
   "cell_type": "code",
   "execution_count": 17,
   "id": "3cec9830",
   "metadata": {},
   "outputs": [
    {
     "data": {
      "text/html": [
       "<table class=\"simpletable\">\n",
       "<caption>OLS Regression Results</caption>\n",
       "<tr>\n",
       "  <th>Dep. Variable:</th>        <td>Admitted</td>     <th>  R-squared:         </th> <td>   0.683</td>\n",
       "</tr>\n",
       "<tr>\n",
       "  <th>Model:</th>                   <td>OLS</td>       <th>  Adj. R-squared:    </th> <td>   0.681</td>\n",
       "</tr>\n",
       "<tr>\n",
       "  <th>Method:</th>             <td>Least Squares</td>  <th>  F-statistic:       </th> <td>   357.5</td>\n",
       "</tr>\n",
       "<tr>\n",
       "  <th>Date:</th>             <td>Tue, 12 Apr 2022</td> <th>  Prob (F-statistic):</th> <td>2.98e-43</td>\n",
       "</tr>\n",
       "<tr>\n",
       "  <th>Time:</th>                 <td>20:15:35</td>     <th>  Log-Likelihood:    </th> <td> -24.262</td>\n",
       "</tr>\n",
       "<tr>\n",
       "  <th>No. Observations:</th>      <td>   168</td>      <th>  AIC:               </th> <td>   52.52</td>\n",
       "</tr>\n",
       "<tr>\n",
       "  <th>Df Residuals:</th>          <td>   166</td>      <th>  BIC:               </th> <td>   58.77</td>\n",
       "</tr>\n",
       "<tr>\n",
       "  <th>Df Model:</th>              <td>     1</td>      <th>                     </th>     <td> </td>   \n",
       "</tr>\n",
       "<tr>\n",
       "  <th>Covariance Type:</th>      <td>nonrobust</td>    <th>                     </th>     <td> </td>   \n",
       "</tr>\n",
       "</table>\n",
       "<table class=\"simpletable\">\n",
       "<tr>\n",
       "    <td></td>       <th>coef</th>     <th>std err</th>      <th>t</th>      <th>P>|t|</th>  <th>[0.025</th>    <th>0.975]</th>  \n",
       "</tr>\n",
       "<tr>\n",
       "  <th>const</th> <td>   -3.2519</td> <td>    0.203</td> <td>  -16.038</td> <td> 0.000</td> <td>   -3.652</td> <td>   -2.852</td>\n",
       "</tr>\n",
       "<tr>\n",
       "  <th>SAT</th>   <td>    0.0022</td> <td>    0.000</td> <td>   18.907</td> <td> 0.000</td> <td>    0.002</td> <td>    0.002</td>\n",
       "</tr>\n",
       "</table>\n",
       "<table class=\"simpletable\">\n",
       "<tr>\n",
       "  <th>Omnibus:</th>       <td> 7.929</td> <th>  Durbin-Watson:     </th> <td>   1.869</td>\n",
       "</tr>\n",
       "<tr>\n",
       "  <th>Prob(Omnibus):</th> <td> 0.019</td> <th>  Jarque-Bera (JB):  </th> <td>   3.844</td>\n",
       "</tr>\n",
       "<tr>\n",
       "  <th>Skew:</th>          <td> 0.090</td> <th>  Prob(JB):          </th> <td>   0.146</td>\n",
       "</tr>\n",
       "<tr>\n",
       "  <th>Kurtosis:</th>      <td> 2.281</td> <th>  Cond. No.          </th> <td>1.59e+04</td>\n",
       "</tr>\n",
       "</table><br/><br/>Notes:<br/>[1] Standard Errors assume that the covariance matrix of the errors is correctly specified.<br/>[2] The condition number is large, 1.59e+04. This might indicate that there are<br/>strong multicollinearity or other numerical problems."
      ],
      "text/plain": [
       "<class 'statsmodels.iolib.summary.Summary'>\n",
       "\"\"\"\n",
       "                            OLS Regression Results                            \n",
       "==============================================================================\n",
       "Dep. Variable:               Admitted   R-squared:                       0.683\n",
       "Model:                            OLS   Adj. R-squared:                  0.681\n",
       "Method:                 Least Squares   F-statistic:                     357.5\n",
       "Date:                Tue, 12 Apr 2022   Prob (F-statistic):           2.98e-43\n",
       "Time:                        20:15:35   Log-Likelihood:                -24.262\n",
       "No. Observations:                 168   AIC:                             52.52\n",
       "Df Residuals:                     166   BIC:                             58.77\n",
       "Df Model:                           1                                         \n",
       "Covariance Type:            nonrobust                                         \n",
       "==============================================================================\n",
       "                 coef    std err          t      P>|t|      [0.025      0.975]\n",
       "------------------------------------------------------------------------------\n",
       "const         -3.2519      0.203    -16.038      0.000      -3.652      -2.852\n",
       "SAT            0.0022      0.000     18.907      0.000       0.002       0.002\n",
       "==============================================================================\n",
       "Omnibus:                        7.929   Durbin-Watson:                   1.869\n",
       "Prob(Omnibus):                  0.019   Jarque-Bera (JB):                3.844\n",
       "Skew:                           0.090   Prob(JB):                        0.146\n",
       "Kurtosis:                       2.281   Cond. No.                     1.59e+04\n",
       "==============================================================================\n",
       "\n",
       "Notes:\n",
       "[1] Standard Errors assume that the covariance matrix of the errors is correctly specified.\n",
       "[2] The condition number is large, 1.59e+04. This might indicate that there are\n",
       "strong multicollinearity or other numerical problems.\n",
       "\"\"\""
      ]
     },
     "execution_count": 17,
     "metadata": {},
     "output_type": "execute_result"
    }
   ],
   "source": [
    "result_lin.summary()"
   ]
  },
  {
   "cell_type": "code",
   "execution_count": 19,
   "id": "032c9349",
   "metadata": {},
   "outputs": [
    {
     "data": {
      "text/plain": [
       "const   -3.251859\n",
       "SAT      0.002248\n",
       "dtype: float64"
      ]
     },
     "execution_count": 19,
     "metadata": {},
     "output_type": "execute_result"
    }
   ],
   "source": [
    "result_lin.params"
   ]
  },
  {
   "cell_type": "code",
   "execution_count": 20,
   "id": "f3652056",
   "metadata": {},
   "outputs": [
    {
     "data": {
      "text/plain": [
       "0.0022482399779685663"
      ]
     },
     "execution_count": 20,
     "metadata": {},
     "output_type": "execute_result"
    }
   ],
   "source": [
    "result_lin.params[1]"
   ]
  },
  {
   "cell_type": "markdown",
   "id": "db6fcd2c",
   "metadata": {},
   "source": [
    "# yhat = b1*x1+b0"
   ]
  },
  {
   "cell_type": "code",
   "execution_count": 21,
   "id": "a5d625ac",
   "metadata": {},
   "outputs": [
    {
     "data": {
      "image/png": "[encoded data removed]",
      "text/plain": [
       "<Figure size 432x288 with 1 Axes>"
      ]
     },
     "metadata": {},
     "output_type": "display_data"
    }
   ],
   "source": [
    "plt.scatter(x1,y,color='red')\n",
    "yhat = x1*result_lin.params[1] + result_lin.params[0]   # x1.0.022+(-3.251)\n",
    "plt.plot(x1,yhat,lw=2.5,color='blue')\n",
    "plt.xlabel('SAT')\n",
    "plt.ylabel('Admitted')\n",
    "plt.show()"
   ]
  },
  {
   "cell_type": "markdown",
   "id": "70257f5d",
   "metadata": {},
   "source": [
    "# Logistic Regression"
   ]
  },
  {
   "cell_type": "code",
   "execution_count": 23,
   "id": "326ee50b",
   "metadata": {},
   "outputs": [
    {
     "name": "stdout",
     "output_type": "stream",
     "text": [
      "Optimization terminated successfully.\n",
      "         Current function value: 0.137766\n",
      "         Iterations 10\n"
     ]
    }
   ],
   "source": [
    "reg_log = sm.Logit(y,x)\n",
    "result_log = reg_log.fit()"
   ]
  },
  {
   "cell_type": "code",
   "execution_count": 24,
   "id": "62faca74",
   "metadata": {},
   "outputs": [],
   "source": [
    "def f(x,b0,b1):\n",
    "    return np.array(np.exp(b0+x*b1)/(1+np.exp(b0+x*b1)))"
   ]
  },
  {
   "cell_type": "code",
   "execution_count": 25,
   "id": "3b449d22",
   "metadata": {},
   "outputs": [
    {
     "data": {
      "text/plain": [
       "const   -69.912802\n",
       "SAT       0.042005\n",
       "dtype: float64"
      ]
     },
     "execution_count": 25,
     "metadata": {},
     "output_type": "execute_result"
    }
   ],
   "source": [
    "result_log.params"
   ]
  },
  {
   "cell_type": "code",
   "execution_count": 26,
   "id": "3a3c74a0",
   "metadata": {},
   "outputs": [],
   "source": [
    "f_sort = np.sort(f(x1,result_log.params[0],result_log.params[1]))"
   ]
  },
  {
   "cell_type": "code",
   "execution_count": 27,
   "id": "7cc38032",
   "metadata": {},
   "outputs": [
    {
     "data": {
      "text/plain": [
       "array([9.39130917e-07, 3.17509804e-06, 3.31130788e-06, 4.26043595e-06,\n",
       "       5.03991985e-06, 7.99999369e-06, 8.70110288e-06, 1.11951035e-05,\n",
       "       1.63383507e-05, 2.48673397e-05, 2.70466415e-05, 3.78484857e-05,\n",
       "       5.29641245e-05, 6.53414596e-05, 6.53414596e-05, 1.51356511e-04,\n",
       "       1.86723145e-04, 1.94731925e-04, 2.20878399e-04, 2.20878399e-04,\n",
       "       2.72485399e-04, 3.22323161e-04, 3.50561492e-04, 3.50561492e-04,\n",
       "       3.81272805e-04, 3.97622735e-04, 4.50998879e-04, 5.56342322e-04,\n",
       "       5.80195312e-04, 7.15694599e-04, 7.78368880e-04, 1.08890584e-03,\n",
       "       1.40058570e-03, 1.40058570e-03, 1.52314535e-03, 2.41557378e-03,\n",
       "       2.73909368e-03, 2.97843145e-03, 3.67195895e-03, 3.82888121e-03,\n",
       "       5.81606838e-03, 6.06406209e-03, 7.78868807e-03, 8.12010613e-03,\n",
       "       8.12010613e-03, 8.12010613e-03, 9.99886535e-03, 9.99886535e-03,\n",
       "       1.08656392e-02, 1.28281107e-02, 1.51396041e-02, 2.02101782e-02,\n",
       "       2.69325537e-02, 2.80555331e-02, 3.72881439e-02, 4.38114775e-02,\n",
       "       4.74688306e-02, 4.74688306e-02, 8.23391338e-02, 1.60448635e-01,\n",
       "       1.97361936e-01, 2.11008877e-01, 2.18086901e-01, 2.18086901e-01,\n",
       "       2.18086901e-01, 2.18086901e-01, 2.32751342e-01, 3.82545559e-01,\n",
       "       3.92515016e-01, 4.12717426e-01, 4.74842828e-01, 4.85326998e-01,\n",
       "       4.95824098e-01, 4.95824098e-01, 5.16820085e-01, 5.58561299e-01,\n",
       "       5.99490987e-01, 5.99490987e-01, 6.09532977e-01, 6.48708934e-01,\n",
       "       7.03787258e-01, 7.20996094e-01, 7.20996094e-01, 7.45626764e-01,\n",
       "       7.68780343e-01, 7.97292345e-01, 8.29130993e-01, 8.80747681e-01,\n",
       "       8.89292965e-01, 8.93361262e-01, 9.11780281e-01, 9.11780281e-01,\n",
       "       9.15101099e-01, 9.18308113e-01, 9.40229806e-01, 9.50997566e-01,\n",
       "       9.50997566e-01, 9.61493870e-01, 9.73291832e-01, 9.78241219e-01,\n",
       "       9.82290106e-01, 9.83006220e-01, 9.84988046e-01, 9.84988046e-01,\n",
       "       9.87797140e-01, 9.89664961e-01, 9.90489815e-01, 9.90489815e-01,\n",
       "       9.91249418e-01, 9.91606351e-01, 9.92592781e-01, 9.93987534e-01,\n",
       "       9.94233430e-01, 9.95320711e-01, 9.95696135e-01, 9.96920696e-01,\n",
       "       9.97605054e-01, 9.97605054e-01, 9.97797608e-01, 9.98611387e-01,\n",
       "       9.98775594e-01, 9.98874143e-01, 9.99087226e-01, 9.99124740e-01,\n",
       "       9.99424768e-01, 9.99448417e-01, 9.99571245e-01, 9.99588875e-01,\n",
       "       9.99588875e-01, 9.99588875e-01, 9.99666730e-01, 9.99666730e-01,\n",
       "       9.99693576e-01, 9.99740956e-01, 9.99781012e-01, 9.99836790e-01,\n",
       "       9.99878362e-01, 9.99883365e-01, 9.99913075e-01, 9.99926518e-01,\n",
       "       9.99932439e-01, 9.99932439e-01, 9.99962475e-01, 9.99982382e-01,\n",
       "       9.99986307e-01, 9.99987410e-01, 9.99987928e-01, 9.99987928e-01,\n",
       "       9.99987928e-01, 9.99988901e-01, 9.99994565e-01, 9.99994789e-01,\n",
       "       9.99995209e-01, 9.99996276e-01, 9.99996576e-01, 9.99996852e-01,\n",
       "       9.99997751e-01, 9.99997843e-01, 9.99998177e-01, 9.99998697e-01,\n",
       "       9.99998851e-01, 9.99999144e-01, 9.99999598e-01, 9.99999674e-01,\n",
       "       9.99999674e-01, 9.99999688e-01, 9.99999865e-01, 9.99999908e-01])"
      ]
     },
     "execution_count": 27,
     "metadata": {},
     "output_type": "execute_result"
    }
   ],
   "source": [
    "f_sort"
   ]
  },
  {
   "cell_type": "code",
   "execution_count": 28,
   "id": "c0ef46f4",
   "metadata": {},
   "outputs": [
    {
     "data": {
      "text/plain": [
       "array([0.  , 0.  , 0.  , 0.  , 0.  , 0.  , 0.  , 0.  , 0.  , 0.  , 0.  ,\n",
       "       0.  , 0.  , 0.  , 0.  , 0.  , 0.  , 0.  , 0.  , 0.  , 0.  , 0.  ,\n",
       "       0.  , 0.  , 0.  , 0.  , 0.  , 0.  , 0.  , 0.  , 0.  , 0.  , 0.  ,\n",
       "       0.  , 0.  , 0.  , 0.  , 0.  , 0.  , 0.  , 0.01, 0.01, 0.01, 0.01,\n",
       "       0.01, 0.01, 0.01, 0.01, 0.01, 0.01, 0.02, 0.02, 0.03, 0.03, 0.04,\n",
       "       0.04, 0.05, 0.05, 0.08, 0.16, 0.2 , 0.21, 0.22, 0.22, 0.22, 0.22,\n",
       "       0.23, 0.38, 0.39, 0.41, 0.47, 0.49, 0.5 , 0.5 , 0.52, 0.56, 0.6 ,\n",
       "       0.6 , 0.61, 0.65, 0.7 , 0.72, 0.72, 0.75, 0.77, 0.8 , 0.83, 0.88,\n",
       "       0.89, 0.89, 0.91, 0.91, 0.92, 0.92, 0.94, 0.95, 0.95, 0.96, 0.97,\n",
       "       0.98, 0.98, 0.98, 0.98, 0.98, 0.99, 0.99, 0.99, 0.99, 0.99, 0.99,\n",
       "       0.99, 0.99, 0.99, 1.  , 1.  , 1.  , 1.  , 1.  , 1.  , 1.  , 1.  ,\n",
       "       1.  , 1.  , 1.  , 1.  , 1.  , 1.  , 1.  , 1.  , 1.  , 1.  , 1.  ,\n",
       "       1.  , 1.  , 1.  , 1.  , 1.  , 1.  , 1.  , 1.  , 1.  , 1.  , 1.  ,\n",
       "       1.  , 1.  , 1.  , 1.  , 1.  , 1.  , 1.  , 1.  , 1.  , 1.  , 1.  ,\n",
       "       1.  , 1.  , 1.  , 1.  , 1.  , 1.  , 1.  , 1.  , 1.  , 1.  , 1.  ,\n",
       "       1.  , 1.  , 1.  ])"
      ]
     },
     "execution_count": 28,
     "metadata": {},
     "output_type": "execute_result"
    }
   ],
   "source": [
    "f_sort.round(2)"
   ]
  },
  {
   "cell_type": "code",
   "execution_count": 29,
   "id": "41f58cba",
   "metadata": {},
   "outputs": [],
   "source": [
    "x_sorted = np.sort(np.array(x1))"
   ]
  },
  {
   "cell_type": "code",
   "execution_count": 30,
   "id": "d80ecdb8",
   "metadata": {},
   "outputs": [
    {
     "data": {
      "image/png": "[encoded data removed]",
      "text/plain": [
       "<Figure size 432x288 with 1 Axes>"
      ]
     },
     "metadata": {},
     "output_type": "display_data"
    }
   ],
   "source": [
    "plt.scatter(x1,y,color='red')\n",
    "plt.plot(x_sorted,f_sort,lw=2.5,color='blue')\n",
    "plt.xlabel('SAT')\n",
    "plt.ylabel('Admitted')\n",
    "plt.show()"
   ]
  },
  {
   "cell_type": "code",
   "execution_count": null,
   "id": "4993c674",
   "metadata": {},
   "outputs": [],
   "source": []
  }
 ],
 "metadata": {
  "kernelspec": {
   "display_name": "Python 3 (ipykernel)",
   "language": "python",
   "name": "python3"
  },
  "language_info": {
   "codemirror_mode": {
    "name": "ipython",
    "version": 3
   },
   "file_extension": ".py",
   "mimetype": "text/x-python",
   "name": "python",
   "nbconvert_exporter": "python",
   "pygments_lexer": "ipython3",
   "version": "3.8.11"
  }
 },
 "nbformat": 4,
 "nbformat_minor": 5
}
