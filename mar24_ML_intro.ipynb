{
 "cells": [
  {
   "cell_type": "code",
   "execution_count": 1,
   "id": "0bd88f3e",
   "metadata": {},
   "outputs": [],
   "source": [
    "import numpy as np\n",
    "import pandas as pd"
   ]
  },
  {
   "cell_type": "code",
   "execution_count": 2,
   "id": "1a4a187f",
   "metadata": {},
   "outputs": [],
   "source": [
    "# creating DataFrames\n",
    "\n",
    "df = pd.DataFrame(np.random.randn(5,4),columns=['W','X',\"Y\",'Z'])"
   ]
  },
  {
   "cell_type": "code",
   "execution_count": 3,
   "id": "9a06f901",
   "metadata": {},
   "outputs": [
    {
     "data": {
      "text/html": [
       "<div>\n",
       "<style scoped>\n",
       "    .dataframe tbody tr th:only-of-type {\n",
       "        vertical-align: middle;\n",
       "    }\n",
       "\n",
       "    .dataframe tbody tr th {\n",
       "        vertical-align: top;\n",
       "    }\n",
       "\n",
       "    .dataframe thead th {\n",
       "        text-align: right;\n",
       "    }\n",
       "</style>\n",
       "<table border=\"1\" class=\"dataframe\">\n",
       "  <thead>\n",
       "    <tr style=\"text-align: right;\">\n",
       "      <th></th>\n",
       "      <th>W</th>\n",
       "      <th>X</th>\n",
       "      <th>Y</th>\n",
       "      <th>Z</th>\n",
       "    </tr>\n",
       "  </thead>\n",
       "  <tbody>\n",
       "    <tr>\n",
       "      <th>0</th>\n",
       "      <td>-0.234939</td>\n",
       "      <td>-0.377927</td>\n",
       "      <td>-1.980633</td>\n",
       "      <td>-1.334575</td>\n",
       "    </tr>\n",
       "    <tr>\n",
       "      <th>1</th>\n",
       "      <td>1.010698</td>\n",
       "      <td>-0.351798</td>\n",
       "      <td>0.851168</td>\n",
       "      <td>-0.686793</td>\n",
       "    </tr>\n",
       "    <tr>\n",
       "      <th>2</th>\n",
       "      <td>1.087105</td>\n",
       "      <td>-0.293514</td>\n",
       "      <td>0.652961</td>\n",
       "      <td>1.173259</td>\n",
       "    </tr>\n",
       "    <tr>\n",
       "      <th>3</th>\n",
       "      <td>0.799010</td>\n",
       "      <td>-1.635853</td>\n",
       "      <td>0.377113</td>\n",
       "      <td>0.045912</td>\n",
       "    </tr>\n",
       "    <tr>\n",
       "      <th>4</th>\n",
       "      <td>0.321720</td>\n",
       "      <td>0.268551</td>\n",
       "      <td>0.018445</td>\n",
       "      <td>0.522777</td>\n",
       "    </tr>\n",
       "  </tbody>\n",
       "</table>\n",
       "</div>"
      ],
      "text/plain": [
       "          W         X         Y         Z\n",
       "0 -0.234939 -0.377927 -1.980633 -1.334575\n",
       "1  1.010698 -0.351798  0.851168 -0.686793\n",
       "2  1.087105 -0.293514  0.652961  1.173259\n",
       "3  0.799010 -1.635853  0.377113  0.045912\n",
       "4  0.321720  0.268551  0.018445  0.522777"
      ]
     },
     "execution_count": 3,
     "metadata": {},
     "output_type": "execute_result"
    }
   ],
   "source": [
    "df"
   ]
  },
  {
   "cell_type": "code",
   "execution_count": 4,
   "id": "cd3b1217",
   "metadata": {},
   "outputs": [
    {
     "data": {
      "text/plain": [
       "0   -0.234939\n",
       "1    1.010698\n",
       "2    1.087105\n",
       "3    0.799010\n",
       "4    0.321720\n",
       "Name: W, dtype: float64"
      ]
     },
     "execution_count": 4,
     "metadata": {},
     "output_type": "execute_result"
    }
   ],
   "source": [
    "df['W']"
   ]
  },
  {
   "cell_type": "code",
   "execution_count": 5,
   "id": "aa2252fe",
   "metadata": {},
   "outputs": [
    {
     "data": {
      "text/plain": [
       "pandas.core.series.Series"
      ]
     },
     "execution_count": 5,
     "metadata": {},
     "output_type": "execute_result"
    }
   ],
   "source": [
    "type(df['W'])"
   ]
  },
  {
   "cell_type": "code",
   "execution_count": 6,
   "id": "03a3c2ac",
   "metadata": {},
   "outputs": [
    {
     "data": {
      "text/plain": [
       "pandas.core.frame.DataFrame"
      ]
     },
     "execution_count": 6,
     "metadata": {},
     "output_type": "execute_result"
    }
   ],
   "source": [
    "type(df[['W','Z']])"
   ]
  },
  {
   "cell_type": "code",
   "execution_count": 7,
   "id": "f067d19b",
   "metadata": {},
   "outputs": [
    {
     "data": {
      "text/plain": [
       "0   -0.234939\n",
       "1    1.010698\n",
       "2    1.087105\n",
       "3    0.799010\n",
       "4    0.321720\n",
       "Name: W, dtype: float64"
      ]
     },
     "execution_count": 7,
     "metadata": {},
     "output_type": "execute_result"
    }
   ],
   "source": [
    "df.W"
   ]
  },
  {
   "cell_type": "code",
   "execution_count": 8,
   "id": "d1671302",
   "metadata": {},
   "outputs": [],
   "source": [
    "df['Sayee'] = df['W'] + df['Z']"
   ]
  },
  {
   "cell_type": "code",
   "execution_count": 9,
   "id": "4ead3f36",
   "metadata": {},
   "outputs": [
    {
     "data": {
      "text/html": [
       "<div>\n",
       "<style scoped>\n",
       "    .dataframe tbody tr th:only-of-type {\n",
       "        vertical-align: middle;\n",
       "    }\n",
       "\n",
       "    .dataframe tbody tr th {\n",
       "        vertical-align: top;\n",
       "    }\n",
       "\n",
       "    .dataframe thead th {\n",
       "        text-align: right;\n",
       "    }\n",
       "</style>\n",
       "<table border=\"1\" class=\"dataframe\">\n",
       "  <thead>\n",
       "    <tr style=\"text-align: right;\">\n",
       "      <th></th>\n",
       "      <th>W</th>\n",
       "      <th>X</th>\n",
       "      <th>Y</th>\n",
       "      <th>Z</th>\n",
       "      <th>Sayee</th>\n",
       "    </tr>\n",
       "  </thead>\n",
       "  <tbody>\n",
       "    <tr>\n",
       "      <th>0</th>\n",
       "      <td>-0.234939</td>\n",
       "      <td>-0.377927</td>\n",
       "      <td>-1.980633</td>\n",
       "      <td>-1.334575</td>\n",
       "      <td>-1.569514</td>\n",
       "    </tr>\n",
       "    <tr>\n",
       "      <th>1</th>\n",
       "      <td>1.010698</td>\n",
       "      <td>-0.351798</td>\n",
       "      <td>0.851168</td>\n",
       "      <td>-0.686793</td>\n",
       "      <td>0.323905</td>\n",
       "    </tr>\n",
       "    <tr>\n",
       "      <th>2</th>\n",
       "      <td>1.087105</td>\n",
       "      <td>-0.293514</td>\n",
       "      <td>0.652961</td>\n",
       "      <td>1.173259</td>\n",
       "      <td>2.260363</td>\n",
       "    </tr>\n",
       "    <tr>\n",
       "      <th>3</th>\n",
       "      <td>0.799010</td>\n",
       "      <td>-1.635853</td>\n",
       "      <td>0.377113</td>\n",
       "      <td>0.045912</td>\n",
       "      <td>0.844922</td>\n",
       "    </tr>\n",
       "    <tr>\n",
       "      <th>4</th>\n",
       "      <td>0.321720</td>\n",
       "      <td>0.268551</td>\n",
       "      <td>0.018445</td>\n",
       "      <td>0.522777</td>\n",
       "      <td>0.844497</td>\n",
       "    </tr>\n",
       "  </tbody>\n",
       "</table>\n",
       "</div>"
      ],
      "text/plain": [
       "          W         X         Y         Z     Sayee\n",
       "0 -0.234939 -0.377927 -1.980633 -1.334575 -1.569514\n",
       "1  1.010698 -0.351798  0.851168 -0.686793  0.323905\n",
       "2  1.087105 -0.293514  0.652961  1.173259  2.260363\n",
       "3  0.799010 -1.635853  0.377113  0.045912  0.844922\n",
       "4  0.321720  0.268551  0.018445  0.522777  0.844497"
      ]
     },
     "execution_count": 9,
     "metadata": {},
     "output_type": "execute_result"
    }
   ],
   "source": [
    "df"
   ]
  },
  {
   "cell_type": "code",
   "execution_count": 10,
   "id": "73cd1b71",
   "metadata": {},
   "outputs": [],
   "source": [
    "df['new'] = [1,2,3,4,5]"
   ]
  },
  {
   "cell_type": "code",
   "execution_count": 11,
   "id": "83d7ec1b",
   "metadata": {},
   "outputs": [
    {
     "data": {
      "text/html": [
       "<div>\n",
       "<style scoped>\n",
       "    .dataframe tbody tr th:only-of-type {\n",
       "        vertical-align: middle;\n",
       "    }\n",
       "\n",
       "    .dataframe tbody tr th {\n",
       "        vertical-align: top;\n",
       "    }\n",
       "\n",
       "    .dataframe thead th {\n",
       "        text-align: right;\n",
       "    }\n",
       "</style>\n",
       "<table border=\"1\" class=\"dataframe\">\n",
       "  <thead>\n",
       "    <tr style=\"text-align: right;\">\n",
       "      <th></th>\n",
       "      <th>W</th>\n",
       "      <th>X</th>\n",
       "      <th>Y</th>\n",
       "      <th>Z</th>\n",
       "      <th>Sayee</th>\n",
       "      <th>new</th>\n",
       "    </tr>\n",
       "  </thead>\n",
       "  <tbody>\n",
       "    <tr>\n",
       "      <th>0</th>\n",
       "      <td>-0.234939</td>\n",
       "      <td>-0.377927</td>\n",
       "      <td>-1.980633</td>\n",
       "      <td>-1.334575</td>\n",
       "      <td>-1.569514</td>\n",
       "      <td>1</td>\n",
       "    </tr>\n",
       "    <tr>\n",
       "      <th>1</th>\n",
       "      <td>1.010698</td>\n",
       "      <td>-0.351798</td>\n",
       "      <td>0.851168</td>\n",
       "      <td>-0.686793</td>\n",
       "      <td>0.323905</td>\n",
       "      <td>2</td>\n",
       "    </tr>\n",
       "    <tr>\n",
       "      <th>2</th>\n",
       "      <td>1.087105</td>\n",
       "      <td>-0.293514</td>\n",
       "      <td>0.652961</td>\n",
       "      <td>1.173259</td>\n",
       "      <td>2.260363</td>\n",
       "      <td>3</td>\n",
       "    </tr>\n",
       "    <tr>\n",
       "      <th>3</th>\n",
       "      <td>0.799010</td>\n",
       "      <td>-1.635853</td>\n",
       "      <td>0.377113</td>\n",
       "      <td>0.045912</td>\n",
       "      <td>0.844922</td>\n",
       "      <td>4</td>\n",
       "    </tr>\n",
       "    <tr>\n",
       "      <th>4</th>\n",
       "      <td>0.321720</td>\n",
       "      <td>0.268551</td>\n",
       "      <td>0.018445</td>\n",
       "      <td>0.522777</td>\n",
       "      <td>0.844497</td>\n",
       "      <td>5</td>\n",
       "    </tr>\n",
       "  </tbody>\n",
       "</table>\n",
       "</div>"
      ],
      "text/plain": [
       "          W         X         Y         Z     Sayee  new\n",
       "0 -0.234939 -0.377927 -1.980633 -1.334575 -1.569514    1\n",
       "1  1.010698 -0.351798  0.851168 -0.686793  0.323905    2\n",
       "2  1.087105 -0.293514  0.652961  1.173259  2.260363    3\n",
       "3  0.799010 -1.635853  0.377113  0.045912  0.844922    4\n",
       "4  0.321720  0.268551  0.018445  0.522777  0.844497    5"
      ]
     },
     "execution_count": 11,
     "metadata": {},
     "output_type": "execute_result"
    }
   ],
   "source": [
    "df"
   ]
  },
  {
   "cell_type": "code",
   "execution_count": 12,
   "id": "254a841a",
   "metadata": {},
   "outputs": [
    {
     "data": {
      "text/html": [
       "<div>\n",
       "<style scoped>\n",
       "    .dataframe tbody tr th:only-of-type {\n",
       "        vertical-align: middle;\n",
       "    }\n",
       "\n",
       "    .dataframe tbody tr th {\n",
       "        vertical-align: top;\n",
       "    }\n",
       "\n",
       "    .dataframe thead th {\n",
       "        text-align: right;\n",
       "    }\n",
       "</style>\n",
       "<table border=\"1\" class=\"dataframe\">\n",
       "  <thead>\n",
       "    <tr style=\"text-align: right;\">\n",
       "      <th></th>\n",
       "      <th>W</th>\n",
       "      <th>X</th>\n",
       "      <th>Y</th>\n",
       "      <th>Z</th>\n",
       "      <th>Sayee</th>\n",
       "    </tr>\n",
       "  </thead>\n",
       "  <tbody>\n",
       "    <tr>\n",
       "      <th>0</th>\n",
       "      <td>-0.234939</td>\n",
       "      <td>-0.377927</td>\n",
       "      <td>-1.980633</td>\n",
       "      <td>-1.334575</td>\n",
       "      <td>-1.569514</td>\n",
       "    </tr>\n",
       "    <tr>\n",
       "      <th>1</th>\n",
       "      <td>1.010698</td>\n",
       "      <td>-0.351798</td>\n",
       "      <td>0.851168</td>\n",
       "      <td>-0.686793</td>\n",
       "      <td>0.323905</td>\n",
       "    </tr>\n",
       "    <tr>\n",
       "      <th>2</th>\n",
       "      <td>1.087105</td>\n",
       "      <td>-0.293514</td>\n",
       "      <td>0.652961</td>\n",
       "      <td>1.173259</td>\n",
       "      <td>2.260363</td>\n",
       "    </tr>\n",
       "    <tr>\n",
       "      <th>3</th>\n",
       "      <td>0.799010</td>\n",
       "      <td>-1.635853</td>\n",
       "      <td>0.377113</td>\n",
       "      <td>0.045912</td>\n",
       "      <td>0.844922</td>\n",
       "    </tr>\n",
       "    <tr>\n",
       "      <th>4</th>\n",
       "      <td>0.321720</td>\n",
       "      <td>0.268551</td>\n",
       "      <td>0.018445</td>\n",
       "      <td>0.522777</td>\n",
       "      <td>0.844497</td>\n",
       "    </tr>\n",
       "  </tbody>\n",
       "</table>\n",
       "</div>"
      ],
      "text/plain": [
       "          W         X         Y         Z     Sayee\n",
       "0 -0.234939 -0.377927 -1.980633 -1.334575 -1.569514\n",
       "1  1.010698 -0.351798  0.851168 -0.686793  0.323905\n",
       "2  1.087105 -0.293514  0.652961  1.173259  2.260363\n",
       "3  0.799010 -1.635853  0.377113  0.045912  0.844922\n",
       "4  0.321720  0.268551  0.018445  0.522777  0.844497"
      ]
     },
     "execution_count": 12,
     "metadata": {},
     "output_type": "execute_result"
    }
   ],
   "source": [
    "df.drop('new',axis=1)"
   ]
  },
  {
   "cell_type": "code",
   "execution_count": 13,
   "id": "a6d68c3a",
   "metadata": {},
   "outputs": [
    {
     "data": {
      "text/html": [
       "<div>\n",
       "<style scoped>\n",
       "    .dataframe tbody tr th:only-of-type {\n",
       "        vertical-align: middle;\n",
       "    }\n",
       "\n",
       "    .dataframe tbody tr th {\n",
       "        vertical-align: top;\n",
       "    }\n",
       "\n",
       "    .dataframe thead th {\n",
       "        text-align: right;\n",
       "    }\n",
       "</style>\n",
       "<table border=\"1\" class=\"dataframe\">\n",
       "  <thead>\n",
       "    <tr style=\"text-align: right;\">\n",
       "      <th></th>\n",
       "      <th>W</th>\n",
       "      <th>X</th>\n",
       "      <th>Y</th>\n",
       "      <th>Z</th>\n",
       "      <th>Sayee</th>\n",
       "      <th>new</th>\n",
       "    </tr>\n",
       "  </thead>\n",
       "  <tbody>\n",
       "    <tr>\n",
       "      <th>0</th>\n",
       "      <td>-0.234939</td>\n",
       "      <td>-0.377927</td>\n",
       "      <td>-1.980633</td>\n",
       "      <td>-1.334575</td>\n",
       "      <td>-1.569514</td>\n",
       "      <td>1</td>\n",
       "    </tr>\n",
       "    <tr>\n",
       "      <th>1</th>\n",
       "      <td>1.010698</td>\n",
       "      <td>-0.351798</td>\n",
       "      <td>0.851168</td>\n",
       "      <td>-0.686793</td>\n",
       "      <td>0.323905</td>\n",
       "      <td>2</td>\n",
       "    </tr>\n",
       "    <tr>\n",
       "      <th>2</th>\n",
       "      <td>1.087105</td>\n",
       "      <td>-0.293514</td>\n",
       "      <td>0.652961</td>\n",
       "      <td>1.173259</td>\n",
       "      <td>2.260363</td>\n",
       "      <td>3</td>\n",
       "    </tr>\n",
       "    <tr>\n",
       "      <th>3</th>\n",
       "      <td>0.799010</td>\n",
       "      <td>-1.635853</td>\n",
       "      <td>0.377113</td>\n",
       "      <td>0.045912</td>\n",
       "      <td>0.844922</td>\n",
       "      <td>4</td>\n",
       "    </tr>\n",
       "    <tr>\n",
       "      <th>4</th>\n",
       "      <td>0.321720</td>\n",
       "      <td>0.268551</td>\n",
       "      <td>0.018445</td>\n",
       "      <td>0.522777</td>\n",
       "      <td>0.844497</td>\n",
       "      <td>5</td>\n",
       "    </tr>\n",
       "  </tbody>\n",
       "</table>\n",
       "</div>"
      ],
      "text/plain": [
       "          W         X         Y         Z     Sayee  new\n",
       "0 -0.234939 -0.377927 -1.980633 -1.334575 -1.569514    1\n",
       "1  1.010698 -0.351798  0.851168 -0.686793  0.323905    2\n",
       "2  1.087105 -0.293514  0.652961  1.173259  2.260363    3\n",
       "3  0.799010 -1.635853  0.377113  0.045912  0.844922    4\n",
       "4  0.321720  0.268551  0.018445  0.522777  0.844497    5"
      ]
     },
     "execution_count": 13,
     "metadata": {},
     "output_type": "execute_result"
    }
   ],
   "source": [
    "df"
   ]
  },
  {
   "cell_type": "code",
   "execution_count": 14,
   "id": "3ac6d874",
   "metadata": {},
   "outputs": [],
   "source": [
    "df.drop('new',axis=1,inplace=True)"
   ]
  },
  {
   "cell_type": "code",
   "execution_count": 15,
   "id": "6052d970",
   "metadata": {},
   "outputs": [
    {
     "data": {
      "text/html": [
       "<div>\n",
       "<style scoped>\n",
       "    .dataframe tbody tr th:only-of-type {\n",
       "        vertical-align: middle;\n",
       "    }\n",
       "\n",
       "    .dataframe tbody tr th {\n",
       "        vertical-align: top;\n",
       "    }\n",
       "\n",
       "    .dataframe thead th {\n",
       "        text-align: right;\n",
       "    }\n",
       "</style>\n",
       "<table border=\"1\" class=\"dataframe\">\n",
       "  <thead>\n",
       "    <tr style=\"text-align: right;\">\n",
       "      <th></th>\n",
       "      <th>W</th>\n",
       "      <th>X</th>\n",
       "      <th>Y</th>\n",
       "      <th>Z</th>\n",
       "      <th>Sayee</th>\n",
       "    </tr>\n",
       "  </thead>\n",
       "  <tbody>\n",
       "    <tr>\n",
       "      <th>0</th>\n",
       "      <td>-0.234939</td>\n",
       "      <td>-0.377927</td>\n",
       "      <td>-1.980633</td>\n",
       "      <td>-1.334575</td>\n",
       "      <td>-1.569514</td>\n",
       "    </tr>\n",
       "    <tr>\n",
       "      <th>1</th>\n",
       "      <td>1.010698</td>\n",
       "      <td>-0.351798</td>\n",
       "      <td>0.851168</td>\n",
       "      <td>-0.686793</td>\n",
       "      <td>0.323905</td>\n",
       "    </tr>\n",
       "    <tr>\n",
       "      <th>2</th>\n",
       "      <td>1.087105</td>\n",
       "      <td>-0.293514</td>\n",
       "      <td>0.652961</td>\n",
       "      <td>1.173259</td>\n",
       "      <td>2.260363</td>\n",
       "    </tr>\n",
       "    <tr>\n",
       "      <th>3</th>\n",
       "      <td>0.799010</td>\n",
       "      <td>-1.635853</td>\n",
       "      <td>0.377113</td>\n",
       "      <td>0.045912</td>\n",
       "      <td>0.844922</td>\n",
       "    </tr>\n",
       "    <tr>\n",
       "      <th>4</th>\n",
       "      <td>0.321720</td>\n",
       "      <td>0.268551</td>\n",
       "      <td>0.018445</td>\n",
       "      <td>0.522777</td>\n",
       "      <td>0.844497</td>\n",
       "    </tr>\n",
       "  </tbody>\n",
       "</table>\n",
       "</div>"
      ],
      "text/plain": [
       "          W         X         Y         Z     Sayee\n",
       "0 -0.234939 -0.377927 -1.980633 -1.334575 -1.569514\n",
       "1  1.010698 -0.351798  0.851168 -0.686793  0.323905\n",
       "2  1.087105 -0.293514  0.652961  1.173259  2.260363\n",
       "3  0.799010 -1.635853  0.377113  0.045912  0.844922\n",
       "4  0.321720  0.268551  0.018445  0.522777  0.844497"
      ]
     },
     "execution_count": 15,
     "metadata": {},
     "output_type": "execute_result"
    }
   ],
   "source": [
    "df"
   ]
  },
  {
   "cell_type": "code",
   "execution_count": 16,
   "id": "32eb5f25",
   "metadata": {},
   "outputs": [],
   "source": [
    "df.drop('Sayee',axis=1,inplace=True)"
   ]
  },
  {
   "cell_type": "code",
   "execution_count": 17,
   "id": "520476d4",
   "metadata": {},
   "outputs": [
    {
     "data": {
      "text/html": [
       "<div>\n",
       "<style scoped>\n",
       "    .dataframe tbody tr th:only-of-type {\n",
       "        vertical-align: middle;\n",
       "    }\n",
       "\n",
       "    .dataframe tbody tr th {\n",
       "        vertical-align: top;\n",
       "    }\n",
       "\n",
       "    .dataframe thead th {\n",
       "        text-align: right;\n",
       "    }\n",
       "</style>\n",
       "<table border=\"1\" class=\"dataframe\">\n",
       "  <thead>\n",
       "    <tr style=\"text-align: right;\">\n",
       "      <th></th>\n",
       "      <th>W</th>\n",
       "      <th>X</th>\n",
       "      <th>Y</th>\n",
       "      <th>Z</th>\n",
       "    </tr>\n",
       "  </thead>\n",
       "  <tbody>\n",
       "    <tr>\n",
       "      <th>0</th>\n",
       "      <td>-0.234939</td>\n",
       "      <td>-0.377927</td>\n",
       "      <td>-1.980633</td>\n",
       "      <td>-1.334575</td>\n",
       "    </tr>\n",
       "    <tr>\n",
       "      <th>1</th>\n",
       "      <td>1.010698</td>\n",
       "      <td>-0.351798</td>\n",
       "      <td>0.851168</td>\n",
       "      <td>-0.686793</td>\n",
       "    </tr>\n",
       "    <tr>\n",
       "      <th>2</th>\n",
       "      <td>1.087105</td>\n",
       "      <td>-0.293514</td>\n",
       "      <td>0.652961</td>\n",
       "      <td>1.173259</td>\n",
       "    </tr>\n",
       "    <tr>\n",
       "      <th>3</th>\n",
       "      <td>0.799010</td>\n",
       "      <td>-1.635853</td>\n",
       "      <td>0.377113</td>\n",
       "      <td>0.045912</td>\n",
       "    </tr>\n",
       "    <tr>\n",
       "      <th>4</th>\n",
       "      <td>0.321720</td>\n",
       "      <td>0.268551</td>\n",
       "      <td>0.018445</td>\n",
       "      <td>0.522777</td>\n",
       "    </tr>\n",
       "  </tbody>\n",
       "</table>\n",
       "</div>"
      ],
      "text/plain": [
       "          W         X         Y         Z\n",
       "0 -0.234939 -0.377927 -1.980633 -1.334575\n",
       "1  1.010698 -0.351798  0.851168 -0.686793\n",
       "2  1.087105 -0.293514  0.652961  1.173259\n",
       "3  0.799010 -1.635853  0.377113  0.045912\n",
       "4  0.321720  0.268551  0.018445  0.522777"
      ]
     },
     "execution_count": 17,
     "metadata": {},
     "output_type": "execute_result"
    }
   ],
   "source": [
    "df"
   ]
  },
  {
   "cell_type": "code",
   "execution_count": 18,
   "id": "f7b282bf",
   "metadata": {},
   "outputs": [
    {
     "data": {
      "text/html": [
       "<div>\n",
       "<style scoped>\n",
       "    .dataframe tbody tr th:only-of-type {\n",
       "        vertical-align: middle;\n",
       "    }\n",
       "\n",
       "    .dataframe tbody tr th {\n",
       "        vertical-align: top;\n",
       "    }\n",
       "\n",
       "    .dataframe thead th {\n",
       "        text-align: right;\n",
       "    }\n",
       "</style>\n",
       "<table border=\"1\" class=\"dataframe\">\n",
       "  <thead>\n",
       "    <tr style=\"text-align: right;\">\n",
       "      <th></th>\n",
       "      <th>W</th>\n",
       "      <th>X</th>\n",
       "      <th>Y</th>\n",
       "      <th>Z</th>\n",
       "    </tr>\n",
       "  </thead>\n",
       "  <tbody>\n",
       "    <tr>\n",
       "      <th>0</th>\n",
       "      <td>-0.234939</td>\n",
       "      <td>-0.377927</td>\n",
       "      <td>-1.980633</td>\n",
       "      <td>-1.334575</td>\n",
       "    </tr>\n",
       "    <tr>\n",
       "      <th>1</th>\n",
       "      <td>1.010698</td>\n",
       "      <td>-0.351798</td>\n",
       "      <td>0.851168</td>\n",
       "      <td>-0.686793</td>\n",
       "    </tr>\n",
       "    <tr>\n",
       "      <th>2</th>\n",
       "      <td>1.087105</td>\n",
       "      <td>-0.293514</td>\n",
       "      <td>0.652961</td>\n",
       "      <td>1.173259</td>\n",
       "    </tr>\n",
       "    <tr>\n",
       "      <th>4</th>\n",
       "      <td>0.321720</td>\n",
       "      <td>0.268551</td>\n",
       "      <td>0.018445</td>\n",
       "      <td>0.522777</td>\n",
       "    </tr>\n",
       "  </tbody>\n",
       "</table>\n",
       "</div>"
      ],
      "text/plain": [
       "          W         X         Y         Z\n",
       "0 -0.234939 -0.377927 -1.980633 -1.334575\n",
       "1  1.010698 -0.351798  0.851168 -0.686793\n",
       "2  1.087105 -0.293514  0.652961  1.173259\n",
       "4  0.321720  0.268551  0.018445  0.522777"
      ]
     },
     "execution_count": 18,
     "metadata": {},
     "output_type": "execute_result"
    }
   ],
   "source": [
    "df.drop(3,axis=0)"
   ]
  },
  {
   "cell_type": "code",
   "execution_count": 19,
   "id": "0c017029",
   "metadata": {},
   "outputs": [
    {
     "data": {
      "text/html": [
       "<div>\n",
       "<style scoped>\n",
       "    .dataframe tbody tr th:only-of-type {\n",
       "        vertical-align: middle;\n",
       "    }\n",
       "\n",
       "    .dataframe tbody tr th {\n",
       "        vertical-align: top;\n",
       "    }\n",
       "\n",
       "    .dataframe thead th {\n",
       "        text-align: right;\n",
       "    }\n",
       "</style>\n",
       "<table border=\"1\" class=\"dataframe\">\n",
       "  <thead>\n",
       "    <tr style=\"text-align: right;\">\n",
       "      <th></th>\n",
       "      <th>W</th>\n",
       "      <th>X</th>\n",
       "      <th>Y</th>\n",
       "      <th>Z</th>\n",
       "    </tr>\n",
       "  </thead>\n",
       "  <tbody>\n",
       "    <tr>\n",
       "      <th>0</th>\n",
       "      <td>-0.234939</td>\n",
       "      <td>-0.377927</td>\n",
       "      <td>-1.980633</td>\n",
       "      <td>-1.334575</td>\n",
       "    </tr>\n",
       "    <tr>\n",
       "      <th>1</th>\n",
       "      <td>1.010698</td>\n",
       "      <td>-0.351798</td>\n",
       "      <td>0.851168</td>\n",
       "      <td>-0.686793</td>\n",
       "    </tr>\n",
       "    <tr>\n",
       "      <th>2</th>\n",
       "      <td>1.087105</td>\n",
       "      <td>-0.293514</td>\n",
       "      <td>0.652961</td>\n",
       "      <td>1.173259</td>\n",
       "    </tr>\n",
       "    <tr>\n",
       "      <th>3</th>\n",
       "      <td>0.799010</td>\n",
       "      <td>-1.635853</td>\n",
       "      <td>0.377113</td>\n",
       "      <td>0.045912</td>\n",
       "    </tr>\n",
       "    <tr>\n",
       "      <th>4</th>\n",
       "      <td>0.321720</td>\n",
       "      <td>0.268551</td>\n",
       "      <td>0.018445</td>\n",
       "      <td>0.522777</td>\n",
       "    </tr>\n",
       "  </tbody>\n",
       "</table>\n",
       "</div>"
      ],
      "text/plain": [
       "          W         X         Y         Z\n",
       "0 -0.234939 -0.377927 -1.980633 -1.334575\n",
       "1  1.010698 -0.351798  0.851168 -0.686793\n",
       "2  1.087105 -0.293514  0.652961  1.173259\n",
       "3  0.799010 -1.635853  0.377113  0.045912\n",
       "4  0.321720  0.268551  0.018445  0.522777"
      ]
     },
     "execution_count": 19,
     "metadata": {},
     "output_type": "execute_result"
    }
   ],
   "source": [
    "df"
   ]
  },
  {
   "cell_type": "code",
   "execution_count": 20,
   "id": "74174ffd",
   "metadata": {},
   "outputs": [],
   "source": [
    "df.drop(3,axis=0,inplace=True)"
   ]
  },
  {
   "cell_type": "code",
   "execution_count": 21,
   "id": "12127659",
   "metadata": {},
   "outputs": [
    {
     "data": {
      "text/html": [
       "<div>\n",
       "<style scoped>\n",
       "    .dataframe tbody tr th:only-of-type {\n",
       "        vertical-align: middle;\n",
       "    }\n",
       "\n",
       "    .dataframe tbody tr th {\n",
       "        vertical-align: top;\n",
       "    }\n",
       "\n",
       "    .dataframe thead th {\n",
       "        text-align: right;\n",
       "    }\n",
       "</style>\n",
       "<table border=\"1\" class=\"dataframe\">\n",
       "  <thead>\n",
       "    <tr style=\"text-align: right;\">\n",
       "      <th></th>\n",
       "      <th>W</th>\n",
       "      <th>X</th>\n",
       "      <th>Y</th>\n",
       "      <th>Z</th>\n",
       "    </tr>\n",
       "  </thead>\n",
       "  <tbody>\n",
       "    <tr>\n",
       "      <th>0</th>\n",
       "      <td>-0.234939</td>\n",
       "      <td>-0.377927</td>\n",
       "      <td>-1.980633</td>\n",
       "      <td>-1.334575</td>\n",
       "    </tr>\n",
       "    <tr>\n",
       "      <th>1</th>\n",
       "      <td>1.010698</td>\n",
       "      <td>-0.351798</td>\n",
       "      <td>0.851168</td>\n",
       "      <td>-0.686793</td>\n",
       "    </tr>\n",
       "    <tr>\n",
       "      <th>2</th>\n",
       "      <td>1.087105</td>\n",
       "      <td>-0.293514</td>\n",
       "      <td>0.652961</td>\n",
       "      <td>1.173259</td>\n",
       "    </tr>\n",
       "    <tr>\n",
       "      <th>4</th>\n",
       "      <td>0.321720</td>\n",
       "      <td>0.268551</td>\n",
       "      <td>0.018445</td>\n",
       "      <td>0.522777</td>\n",
       "    </tr>\n",
       "  </tbody>\n",
       "</table>\n",
       "</div>"
      ],
      "text/plain": [
       "          W         X         Y         Z\n",
       "0 -0.234939 -0.377927 -1.980633 -1.334575\n",
       "1  1.010698 -0.351798  0.851168 -0.686793\n",
       "2  1.087105 -0.293514  0.652961  1.173259\n",
       "4  0.321720  0.268551  0.018445  0.522777"
      ]
     },
     "execution_count": 21,
     "metadata": {},
     "output_type": "execute_result"
    }
   ],
   "source": [
    "df"
   ]
  },
  {
   "cell_type": "code",
   "execution_count": 22,
   "id": "6c24f13a",
   "metadata": {},
   "outputs": [
    {
     "data": {
      "text/plain": [
       "(4, 4)"
      ]
     },
     "execution_count": 22,
     "metadata": {},
     "output_type": "execute_result"
    }
   ],
   "source": [
    "df.shape"
   ]
  },
  {
   "cell_type": "code",
   "execution_count": 23,
   "id": "f770e578",
   "metadata": {},
   "outputs": [
    {
     "data": {
      "text/plain": [
       "W    1.087105\n",
       "X   -0.293514\n",
       "Y    0.652961\n",
       "Z    1.173259\n",
       "Name: 2, dtype: float64"
      ]
     },
     "execution_count": 23,
     "metadata": {},
     "output_type": "execute_result"
    }
   ],
   "source": [
    "df.iloc[2]"
   ]
  },
  {
   "cell_type": "code",
   "execution_count": 24,
   "id": "0b92b4d8",
   "metadata": {},
   "outputs": [
    {
     "data": {
      "text/plain": [
       "W    0.321720\n",
       "X    0.268551\n",
       "Y    0.018445\n",
       "Z    0.522777\n",
       "Name: 4, dtype: float64"
      ]
     },
     "execution_count": 24,
     "metadata": {},
     "output_type": "execute_result"
    }
   ],
   "source": [
    "df.iloc[3]"
   ]
  },
  {
   "cell_type": "code",
   "execution_count": 25,
   "id": "c29f8ca6",
   "metadata": {},
   "outputs": [],
   "source": [
    "df = pd.DataFrame(np.random.randn(5,4),columns=['W','X',\"Y\",'Z'])"
   ]
  },
  {
   "cell_type": "code",
   "execution_count": 26,
   "id": "f05ab5aa",
   "metadata": {},
   "outputs": [
    {
     "data": {
      "text/html": [
       "<div>\n",
       "<style scoped>\n",
       "    .dataframe tbody tr th:only-of-type {\n",
       "        vertical-align: middle;\n",
       "    }\n",
       "\n",
       "    .dataframe tbody tr th {\n",
       "        vertical-align: top;\n",
       "    }\n",
       "\n",
       "    .dataframe thead th {\n",
       "        text-align: right;\n",
       "    }\n",
       "</style>\n",
       "<table border=\"1\" class=\"dataframe\">\n",
       "  <thead>\n",
       "    <tr style=\"text-align: right;\">\n",
       "      <th></th>\n",
       "      <th>W</th>\n",
       "      <th>X</th>\n",
       "      <th>Y</th>\n",
       "      <th>Z</th>\n",
       "    </tr>\n",
       "  </thead>\n",
       "  <tbody>\n",
       "    <tr>\n",
       "      <th>0</th>\n",
       "      <td>1.917253</td>\n",
       "      <td>-1.167895</td>\n",
       "      <td>1.541465</td>\n",
       "      <td>-0.671175</td>\n",
       "    </tr>\n",
       "    <tr>\n",
       "      <th>1</th>\n",
       "      <td>1.178844</td>\n",
       "      <td>1.081149</td>\n",
       "      <td>-0.588909</td>\n",
       "      <td>0.260127</td>\n",
       "    </tr>\n",
       "    <tr>\n",
       "      <th>2</th>\n",
       "      <td>1.011068</td>\n",
       "      <td>-0.365107</td>\n",
       "      <td>-0.787940</td>\n",
       "      <td>-0.011729</td>\n",
       "    </tr>\n",
       "    <tr>\n",
       "      <th>3</th>\n",
       "      <td>-0.035479</td>\n",
       "      <td>0.063718</td>\n",
       "      <td>0.298957</td>\n",
       "      <td>-1.130933</td>\n",
       "    </tr>\n",
       "    <tr>\n",
       "      <th>4</th>\n",
       "      <td>-0.326264</td>\n",
       "      <td>-1.922640</td>\n",
       "      <td>0.698058</td>\n",
       "      <td>-0.768486</td>\n",
       "    </tr>\n",
       "  </tbody>\n",
       "</table>\n",
       "</div>"
      ],
      "text/plain": [
       "          W         X         Y         Z\n",
       "0  1.917253 -1.167895  1.541465 -0.671175\n",
       "1  1.178844  1.081149 -0.588909  0.260127\n",
       "2  1.011068 -0.365107 -0.787940 -0.011729\n",
       "3 -0.035479  0.063718  0.298957 -1.130933\n",
       "4 -0.326264 -1.922640  0.698058 -0.768486"
      ]
     },
     "execution_count": 26,
     "metadata": {},
     "output_type": "execute_result"
    }
   ],
   "source": [
    "df"
   ]
  },
  {
   "cell_type": "code",
   "execution_count": 27,
   "id": "7eaf5461",
   "metadata": {},
   "outputs": [
    {
     "data": {
      "text/html": [
       "<div>\n",
       "<style scoped>\n",
       "    .dataframe tbody tr th:only-of-type {\n",
       "        vertical-align: middle;\n",
       "    }\n",
       "\n",
       "    .dataframe tbody tr th {\n",
       "        vertical-align: top;\n",
       "    }\n",
       "\n",
       "    .dataframe thead th {\n",
       "        text-align: right;\n",
       "    }\n",
       "</style>\n",
       "<table border=\"1\" class=\"dataframe\">\n",
       "  <thead>\n",
       "    <tr style=\"text-align: right;\">\n",
       "      <th></th>\n",
       "      <th>Y</th>\n",
       "      <th>Z</th>\n",
       "    </tr>\n",
       "  </thead>\n",
       "  <tbody>\n",
       "    <tr>\n",
       "      <th>0</th>\n",
       "      <td>1.541465</td>\n",
       "      <td>-0.671175</td>\n",
       "    </tr>\n",
       "    <tr>\n",
       "      <th>1</th>\n",
       "      <td>-0.588909</td>\n",
       "      <td>0.260127</td>\n",
       "    </tr>\n",
       "    <tr>\n",
       "      <th>2</th>\n",
       "      <td>-0.787940</td>\n",
       "      <td>-0.011729</td>\n",
       "    </tr>\n",
       "    <tr>\n",
       "      <th>3</th>\n",
       "      <td>0.298957</td>\n",
       "      <td>-1.130933</td>\n",
       "    </tr>\n",
       "    <tr>\n",
       "      <th>4</th>\n",
       "      <td>0.698058</td>\n",
       "      <td>-0.768486</td>\n",
       "    </tr>\n",
       "  </tbody>\n",
       "</table>\n",
       "</div>"
      ],
      "text/plain": [
       "          Y         Z\n",
       "0  1.541465 -0.671175\n",
       "1 -0.588909  0.260127\n",
       "2 -0.787940 -0.011729\n",
       "3  0.298957 -1.130933\n",
       "4  0.698058 -0.768486"
      ]
     },
     "execution_count": 27,
     "metadata": {},
     "output_type": "execute_result"
    }
   ],
   "source": [
    "df.iloc[0:,2:]"
   ]
  },
  {
   "cell_type": "code",
   "execution_count": 28,
   "id": "52daf107",
   "metadata": {},
   "outputs": [
    {
     "data": {
      "text/html": [
       "<div>\n",
       "<style scoped>\n",
       "    .dataframe tbody tr th:only-of-type {\n",
       "        vertical-align: middle;\n",
       "    }\n",
       "\n",
       "    .dataframe tbody tr th {\n",
       "        vertical-align: top;\n",
       "    }\n",
       "\n",
       "    .dataframe thead th {\n",
       "        text-align: right;\n",
       "    }\n",
       "</style>\n",
       "<table border=\"1\" class=\"dataframe\">\n",
       "  <thead>\n",
       "    <tr style=\"text-align: right;\">\n",
       "      <th></th>\n",
       "      <th>Y</th>\n",
       "      <th>Z</th>\n",
       "    </tr>\n",
       "  </thead>\n",
       "  <tbody>\n",
       "    <tr>\n",
       "      <th>2</th>\n",
       "      <td>-0.787940</td>\n",
       "      <td>-0.011729</td>\n",
       "    </tr>\n",
       "    <tr>\n",
       "      <th>3</th>\n",
       "      <td>0.298957</td>\n",
       "      <td>-1.130933</td>\n",
       "    </tr>\n",
       "    <tr>\n",
       "      <th>4</th>\n",
       "      <td>0.698058</td>\n",
       "      <td>-0.768486</td>\n",
       "    </tr>\n",
       "  </tbody>\n",
       "</table>\n",
       "</div>"
      ],
      "text/plain": [
       "          Y         Z\n",
       "2 -0.787940 -0.011729\n",
       "3  0.298957 -1.130933\n",
       "4  0.698058 -0.768486"
      ]
     },
     "execution_count": 28,
     "metadata": {},
     "output_type": "execute_result"
    }
   ],
   "source": [
    "df.iloc[2:,2:]"
   ]
  },
  {
   "cell_type": "code",
   "execution_count": 29,
   "id": "369a09b7",
   "metadata": {},
   "outputs": [
    {
     "data": {
      "text/html": [
       "<div>\n",
       "<style scoped>\n",
       "    .dataframe tbody tr th:only-of-type {\n",
       "        vertical-align: middle;\n",
       "    }\n",
       "\n",
       "    .dataframe tbody tr th {\n",
       "        vertical-align: top;\n",
       "    }\n",
       "\n",
       "    .dataframe thead th {\n",
       "        text-align: right;\n",
       "    }\n",
       "</style>\n",
       "<table border=\"1\" class=\"dataframe\">\n",
       "  <thead>\n",
       "    <tr style=\"text-align: right;\">\n",
       "      <th></th>\n",
       "      <th>Y</th>\n",
       "      <th>Z</th>\n",
       "    </tr>\n",
       "  </thead>\n",
       "  <tbody>\n",
       "    <tr>\n",
       "      <th>0</th>\n",
       "      <td>1.541465</td>\n",
       "      <td>-0.671175</td>\n",
       "    </tr>\n",
       "    <tr>\n",
       "      <th>1</th>\n",
       "      <td>-0.588909</td>\n",
       "      <td>0.260127</td>\n",
       "    </tr>\n",
       "    <tr>\n",
       "      <th>2</th>\n",
       "      <td>-0.787940</td>\n",
       "      <td>-0.011729</td>\n",
       "    </tr>\n",
       "  </tbody>\n",
       "</table>\n",
       "</div>"
      ],
      "text/plain": [
       "          Y         Z\n",
       "0  1.541465 -0.671175\n",
       "1 -0.588909  0.260127\n",
       "2 -0.787940 -0.011729"
      ]
     },
     "execution_count": 29,
     "metadata": {},
     "output_type": "execute_result"
    }
   ],
   "source": [
    "df.iloc[0:3,2:]"
   ]
  },
  {
   "cell_type": "markdown",
   "id": "2b4144dd",
   "metadata": {},
   "source": [
    "# Matplotlib"
   ]
  },
  {
   "cell_type": "code",
   "execution_count": 30,
   "id": "d9fec1a5",
   "metadata": {},
   "outputs": [],
   "source": [
    "import matplotlib.pyplot as plt"
   ]
  },
  {
   "cell_type": "code",
   "execution_count": 31,
   "id": "851954d4",
   "metadata": {},
   "outputs": [],
   "source": [
    "a = np.linspace(0,5,11)"
   ]
  },
  {
   "cell_type": "code",
   "execution_count": 32,
   "id": "558b3232",
   "metadata": {},
   "outputs": [
    {
     "data": {
      "text/plain": [
       "array([0. , 0.5, 1. , 1.5, 2. , 2.5, 3. , 3.5, 4. , 4.5, 5. ])"
      ]
     },
     "execution_count": 32,
     "metadata": {},
     "output_type": "execute_result"
    }
   ],
   "source": [
    "a"
   ]
  },
  {
   "cell_type": "code",
   "execution_count": 33,
   "id": "84aebadc",
   "metadata": {},
   "outputs": [],
   "source": [
    "b = a**2"
   ]
  },
  {
   "cell_type": "code",
   "execution_count": 34,
   "id": "af61662e",
   "metadata": {},
   "outputs": [
    {
     "data": {
      "text/plain": [
       "array([ 0.  ,  0.25,  1.  ,  2.25,  4.  ,  6.25,  9.  , 12.25, 16.  ,\n",
       "       20.25, 25.  ])"
      ]
     },
     "execution_count": 34,
     "metadata": {},
     "output_type": "execute_result"
    }
   ],
   "source": [
    "b"
   ]
  },
  {
   "cell_type": "code",
   "execution_count": 35,
   "id": "37b82aac",
   "metadata": {},
   "outputs": [],
   "source": [
    "c = np.array([2,4,6,8,9,2])"
   ]
  },
  {
   "cell_type": "code",
   "execution_count": 36,
   "id": "febdc1b0",
   "metadata": {},
   "outputs": [
    {
     "data": {
      "text/plain": [
       "array([2, 4, 6, 8, 9, 2])"
      ]
     },
     "execution_count": 36,
     "metadata": {},
     "output_type": "execute_result"
    }
   ],
   "source": [
    "c"
   ]
  },
  {
   "cell_type": "code",
   "execution_count": 37,
   "id": "a3a88720",
   "metadata": {},
   "outputs": [
    {
     "data": {
      "image/png": "[encoded data removed]",
      "text/plain": [
       "<Figure size 432x288 with 1 Axes>"
      ]
     },
     "metadata": {
      "needs_background": "light"
     },
     "output_type": "display_data"
    }
   ],
   "source": [
    "plt.plot(a,b)\n",
    "plt.title('SaprrowAI',fontsize=20)\n",
    "plt.xlabel('A',fontsize=18)\n",
    "plt.ylabel('B',fontsize=18)\n",
    "plt.show()"
   ]
  },
  {
   "cell_type": "code",
   "execution_count": 38,
   "id": "b20c0453",
   "metadata": {},
   "outputs": [
    {
     "data": {
      "image/png": "[encoded data removed]",
      "text/plain": [
       "<Figure size 432x288 with 1 Axes>"
      ]
     },
     "metadata": {
      "needs_background": "light"
     },
     "output_type": "display_data"
    }
   ],
   "source": [
    "plt.scatter(a,b)\n",
    "plt.title('SaprrowAI',fontsize=20)\n",
    "plt.xlabel('A',fontsize=18)\n",
    "plt.ylabel('B',fontsize=18)\n",
    "plt.show()"
   ]
  },
  {
   "cell_type": "code",
   "execution_count": 39,
   "id": "33e77624",
   "metadata": {},
   "outputs": [
    {
     "data": {
      "image/png": "[encoded data removed]",
      "text/plain": [
       "<Figure size 432x288 with 1 Axes>"
      ]
     },
     "metadata": {
      "needs_background": "light"
     },
     "output_type": "display_data"
    }
   ],
   "source": [
    "plt.bar(a,b)\n",
    "plt.title('SaprrowAI',fontsize=20)\n",
    "plt.xlabel('A',fontsize=18)\n",
    "plt.ylabel('B',fontsize=18)\n",
    "plt.show()"
   ]
  },
  {
   "cell_type": "code",
   "execution_count": 40,
   "id": "993b284d",
   "metadata": {},
   "outputs": [
    {
     "data": {
      "text/plain": [
       "([<matplotlib.patches.Wedge at 0x7f7d4e4c5130>,\n",
       "  <matplotlib.patches.Wedge at 0x7f7d4e4c5670>,\n",
       "  <matplotlib.patches.Wedge at 0x7f7d4e4c5b50>,\n",
       "  <matplotlib.patches.Wedge at 0x7f7d4e4c5fd0>,\n",
       "  <matplotlib.patches.Wedge at 0x7f7d4e4d4550>,\n",
       "  <matplotlib.patches.Wedge at 0x7f7d4e4d4a30>],\n",
       " [Text(1.0774829367152678, 0.22142836558905946, ''),\n",
       "  Text(0.7578636302467384, 0.7972720476407255, ''),\n",
       "  Text(-0.2757177275932748, 1.0648848457419238, ''),\n",
       "  Text(-1.0943562664864532, -0.11128504841995318, ''),\n",
       "  Text(0.27571762789155874, -1.0648848715564758, ''),\n",
       "  Text(1.0774828952520095, -0.22142856735152225, '')])"
      ]
     },
     "execution_count": 40,
     "metadata": {},
     "output_type": "execute_result"
    },
    {
     "data": {
      "image/png": "[encoded data removed]",
      "text/plain": [
       "<Figure size 432x288 with 1 Axes>"
      ]
     },
     "metadata": {},
     "output_type": "display_data"
    }
   ],
   "source": [
    "plt.pie(c)"
   ]
  },
  {
   "cell_type": "code",
   "execution_count": 41,
   "id": "2d7ac14f",
   "metadata": {},
   "outputs": [
    {
     "data": {
      "image/png": "[encoded data removed]",
      "text/plain": [
       "<Figure size 432x288 with 3 Axes>"
      ]
     },
     "metadata": {
      "needs_background": "light"
     },
     "output_type": "display_data"
    }
   ],
   "source": [
    "plt.subplot(1,3,1)\n",
    "plt.plot(a,b)\n",
    "plt.subplot(1,3,2)\n",
    "plt.plot(b,a)\n",
    "plt.subplot(1,3,3)\n",
    "plt.plot(a,a)\n",
    "plt.tight_layout()\n",
    "plt.show()"
   ]
  },
  {
   "cell_type": "code",
   "execution_count": 43,
   "id": "04ba7cb1",
   "metadata": {},
   "outputs": [
    {
     "data": {
      "image/png": "[encoded data removed]",
      "text/plain": [
       "<Figure size 432x288 with 1 Axes>"
      ]
     },
     "metadata": {
      "needs_background": "light"
     },
     "output_type": "display_data"
    }
   ],
   "source": [
    "fig = plt.figure()\n",
    "axes = fig.add_axes([0.1,0.1,0.8,0.8])  # left,bottom,width,height\n",
    "axes.plot(a,b)\n",
    "axes.set_title(\"SaprrowAI\")\n",
    "axes.set_xlabel(\"A\")\n",
    "axes.set_ylabel(\"B\")\n",
    "plt.show()"
   ]
  },
  {
   "cell_type": "code",
   "execution_count": 44,
   "id": "12a438c5",
   "metadata": {},
   "outputs": [
    {
     "data": {
      "image/png": "[encoded data removed]",
      "text/plain": [
       "<Figure size 432x288 with 2 Axes>"
      ]
     },
     "metadata": {
      "needs_background": "light"
     },
     "output_type": "display_data"
    }
   ],
   "source": [
    "fig = plt.figure()\n",
    "axes1 = fig.add_axes([0.1,0.1,0.8,0.8])# left,bottom,width,height\n",
    "axes2 = fig.add_axes([0.2,0.5,0.4,0.3])\n",
    "axes1.plot(a,b)\n",
    "axes2.plot(b,a)\n",
    "axes.set_title(\"SaprrowAI\")\n",
    "axes.set_xlabel(\"A\")\n",
    "axes.set_ylabel(\"B\")\n",
    "plt.show()"
   ]
  },
  {
   "cell_type": "code",
   "execution_count": null,
   "id": "6a36ec67",
   "metadata": {},
   "outputs": [],
   "source": []
  }
 ],
 "metadata": {
  "kernelspec": {
   "display_name": "Python 3 (ipykernel)",
   "language": "python",
   "name": "python3"
  },
  "language_info": {
   "codemirror_mode": {
    "name": "ipython",
    "version": 3
   },
   "file_extension": ".py",
   "mimetype": "text/x-python",
   "name": "python",
   "nbconvert_exporter": "python",
   "pygments_lexer": "ipython3",
   "version": "3.8.11"
  }
 },
 "nbformat": 4,
 "nbformat_minor": 5
}
